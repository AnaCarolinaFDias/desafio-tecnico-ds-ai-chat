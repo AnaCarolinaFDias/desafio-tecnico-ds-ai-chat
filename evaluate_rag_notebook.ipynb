{
 "cells": [
  {
   "cell_type": "code",
   "execution_count": 6,
   "metadata": {},
   "outputs": [],
   "source": [
    "import time\n",
    "import random\n",
    "import numpy as np\n",
    "from langchain.chains import RetrievalQA\n",
    "from langchain.vectorstores import FAISS\n",
    "from langchain.document_loaders import CSVLoader\n",
    "from IPython.display import display, Markdown\n",
    "\n",
    "import langchain\n",
    "from langchain_openai import OpenAIEmbeddings, ChatOpenAI\n",
    "from langchain.llms import OpenAI\n",
    "from langchain.evaluation.qa import QAGenerateChain\n",
    "from langchain.evaluation.qa import QAEvalChain\n",
    "from langchain.text_splitter import TokenTextSplitter\n",
    "from langchain.schema import Document\n",
    "from langchain_chroma import Chroma\n",
    "\n",
    "from langchain_openai import OpenAIEmbeddings\n",
    "from langchain_community.embeddings import HuggingFaceInferenceAPIEmbeddings\n",
    "from langchain_google_genai import GoogleGenerativeAIEmbeddings\n",
    "from uuid import uuid4\n",
    "\n",
    "import openai\n",
    "import os\n",
    "from dotenv import load_dotenv\n",
    "import getpass\n",
    "import logging\n",
    "import pandas as pd\n",
    "import json\n",
    "\n",
    "# Configurar o logging para salvar a saída de debug em um arquivo\n",
    "logging.basicConfig(\n",
    "    filename='./logs/debug_output.log',  # O arquivo onde os logs serão salvos\n",
    "    level=logging.DEBUG,          # O nível de log (DEBUG para capturar tudo)\n",
    "    format='%(asctime)s - %(levelname)s - %(message)s'  # Formato do log\n",
    ")\n",
    "\n",
    "logger = logging.getLogger()\n",
    "\n",
    "import warnings\n",
    "warnings.filterwarnings(\"ignore\")\n"
   ]
  },
  {
   "cell_type": "code",
   "execution_count": 7,
   "metadata": {},
   "outputs": [],
   "source": [
    "load_dotenv() # read local .env file\n",
    "\n",
    "if not os.getenv(\"OPENAI_API_KEY\"):\n",
    "   os.environ[\"OPENAI_API_KEY\"] = getpass.getpass(\"Enter your OpenAI API key: \")"
   ]
  },
  {
   "cell_type": "code",
   "execution_count": 8,
   "metadata": {},
   "outputs": [],
   "source": [
    "file = 'inputs/OutdoorClothingCatalog_1000.csv'\n",
    "loader = CSVLoader(file_path=file, encoding=\"utf-8\")\n",
    "docs = loader.load()"
   ]
  },
  {
   "cell_type": "code",
   "execution_count": 9,
   "metadata": {},
   "outputs": [],
   "source": [
    "text_splitter = TokenTextSplitter(chunk_size=200, chunk_overlap=10)\n",
    "\n",
    "split_documents = []\n",
    "for doc in docs:\n",
    "    split_docs = text_splitter.split_documents([doc])\n",
    "    split_documents.extend(split_docs)\n",
    "    \n",
    "    documents_dict = [\n",
    "    {\"page_content\": doc.page_content, \"metadata\": doc.metadata} for doc in split_documents\n",
    "]\n",
    "\n",
    "# Save the list of dictionaries to a JSON file\n",
    "with open(\"inputs/documents_split_langchain.json\", \"w\") as file:\n",
    "    json.dump(documents_dict, file, indent=4)\n",
    "\n",
    "logger.debug(\"Documents have been saved to 'documents_split_langchain.json'\")"
   ]
  },
  {
   "cell_type": "code",
   "execution_count": 11,
   "metadata": {},
   "outputs": [],
   "source": [
    "# Load documents split\n",
    "with open(\"inputs/documents_split_langchain.json\", \"r\") as file:\n",
    "    documents_dict = json.load(file)\n",
    "\n",
    "# Convert the list of dictionaries back to a list of Document objects\n",
    "documents = [\n",
    "    Document(page_content=doc[\"page_content\"], metadata=doc[\"metadata\"])\n",
    "    for doc in documents_dict\n",
    "]"
   ]
  },
  {
   "cell_type": "code",
   "execution_count": 12,
   "metadata": {},
   "outputs": [],
   "source": [
    "from functions import openai_embedding_function, hf_embeddings_function, google_embedding_function \n",
    "# Generating embeddings \n",
    "openai_embedding_function(documents, model = \"text-embedding-3-large\")"
   ]
  },
  {
   "cell_type": "code",
   "execution_count": 13,
   "metadata": {},
   "outputs": [],
   "source": [
    "from functions import load_VectorStore"
   ]
  },
  {
   "cell_type": "code",
   "execution_count": 42,
   "metadata": {},
   "outputs": [
    {
     "name": "stdout",
     "output_type": "stream",
     "text": [
      "OpenAI db loaded\n"
     ]
    }
   ],
   "source": [
    "embeddings_provider = 'OpenAI'\n",
    "vector_store = load_VectorStore(embeddings_provider)"
   ]
  },
  {
   "cell_type": "markdown",
   "metadata": {},
   "source": [
    "## Criando as querys para validar os metodos"
   ]
  },
  {
   "cell_type": "code",
   "execution_count": null,
   "metadata": {},
   "outputs": [],
   "source": [
    "langchain_debug = False\n",
    "\n",
    "manual_examples = [\n",
    "     {\"query\": \"Do the Cozy Comfort Pullover Set have side pockets?\", \n",
    "      \"answer\": \"Yes\"},\n",
    "    \n",
    "     {\"query\": \"What collection is the Ultra-Lofty \\850 Stretch Down Hooded Jacket from?\",\n",
    "      \"answer\": \"The DownTek collection\"\n",
    "     }]\n",
    "\n",
    " # Gerando exemplos para validação com IA generativa\n",
    " # Gerando examples via LLM \n",
    "\n",
    "llm_model = \"gpt-4o-mini\"\n",
    "example_gen_chain = QAGenerateChain.from_llm(ChatOpenAI(model=llm_model))\n",
    "\n",
    "select_n_documents = 5\n",
    "\n",
    "# Selecionar 5 documentos aleatórios da lista `docs`\n",
    "random_documents = random.sample(docs, select_n_documents)\n",
    "\n",
    "# Criando a estrutura de entrada (lista de dicionários)\n",
    "formatted_documents = [{\"doc\": doc} for doc in random_documents]\n",
    "\n",
    "# Aplicando o processo de exemplo genérico (example_gen_chain) e obtendo a saída\n",
    "gen_examples = example_gen_chain.apply_and_parse(formatted_documents)\n",
    "\n",
    "# Ajustando a saída para incluir o contexto\n",
    "gen_examples_adjusted_examples = []\n",
    "for doc, example in zip(random_documents, gen_examples):\n",
    "    qa_pair = example.get('qa_pairs', {})\n",
    "    query = qa_pair.get('query', '')\n",
    "    answer = qa_pair.get('answer', '')\n",
    "    \n",
    "    gen_examples_adjusted_examples.append({\n",
    "        'context': doc,  # Adicionando o documento original como contexto\n",
    "        'query': query,\n",
    "        'answer': answer\n",
    "    })\n",
    "\n",
    "validation_examples = gen_examples_adjusted_examples\n",
    "\n",
    "documents_dict = [\n",
    "    [{\"context\": doc['context'].page_content, \n",
    "      \"metadata\": doc['context'].metadata,\n",
    "      \"answer\": doc['answer'],  # Assuming doc['answer'] is a string or direct key\n",
    "      \"query\": doc['query']}   # Assuming doc['query'] is a string or direct key\n",
    "     for doc in data]\n",
    "    for data in [validation_examples]\n",
    "]\n",
    "documents_dict\n",
    "\n",
    "os.makedirs('results', exist_ok=True)\n",
    "\n",
    "# Save the list of dictionaries to a JSON file\n",
    "with open(f\"results/query_{embeddings_provider}_results.json\", \"w\") as file:\n",
    "    json.dump(documents_dict, file, indent=4)\n",
    "\n",
    "print(f\"Documents have been saved to 'query_{embeddings_provider}_results.json'\")"
   ]
  },
  {
   "cell_type": "markdown",
   "metadata": {},
   "source": [
    "# Comparando métodos de RAG"
   ]
  },
  {
   "cell_type": "code",
   "execution_count": null,
   "metadata": {},
   "outputs": [],
   "source": [
    "# Técnica simples por similaridade\n",
    "\n",
    "model = 'gpt-3.5-turbo-instruct'\n",
    "\n",
    "llm = OpenAI(temperature=0.2, model=model)\n",
    "\n",
    "qa = RetrievalQA.from_chain_type(\n",
    "    llm=llm, \n",
    "    chain_type=\"stuff\",\n",
    "    retriever=vector_store.as_retriever(), \n",
    "    verbose=True,\n",
    "    chain_type_kwargs = {\"document_separator\": \"\\n\"})\n",
    "\n",
    "\n",
    "# Supondo que você queira registrar a variável `langchain.debug`\n",
    "# langchain_debug = True  # Exemplo de variável para controlar o modo debug\n",
    "\n",
    "# Log de debug com interpolação correta\n",
    "logger.debug(f\"qa_baselineMethod predictions debug {langchain_debug}\")\n",
    "\n",
    "predictions = qa.apply(validation_examples)\n",
    "\n",
    "documents_dict = [\n",
    "    [{\"context\": doc['context'].page_content, \n",
    "      \"metadata\": doc['context'].metadata,\n",
    "      \"answer\": doc['answer'],  # Assuming doc['answer'] is a string or direct key\n",
    "      \"query\": doc['query']}   # Assuming doc['query'] is a string or direct key\n",
    "     for doc in data]\n",
    "    for data in [validation_examples]\n",
    "]\n",
    "documents_dict\n",
    "\n",
    "os.makedirs('results', exist_ok=True)\n",
    "\n",
    "# Save the list of dictionaries to a JSON file\n",
    "with open(f\"results/query_{embeddings_provider}_results.json\", \"w\") as file:\n",
    "    json.dump(documents_dict, file, indent=4)\n",
    "\n",
    "print(f\"Documents have been saved to 'query_{embeddings_provider}_results.json'\")"
   ]
  },
  {
   "cell_type": "code",
   "execution_count": 52,
   "metadata": {},
   "outputs": [
    {
     "data": {
      "text/plain": [
       "[{'context': Document(metadata={'source': 'inputs/OutdoorClothingCatalog_1000.csv', 'row': 644}, page_content=': 644\\nname: ShirtFab Classic COTU 2750 Sneakers\\ndescription: Inspired by a love for the coast, this Superga fabric sneaker features a nautical stripe. With a woven shirt-fabric upper for cool comfort and timeless style. \\r\\n\\r\\nSize & Fit: Please order one-half size down from your regular shoe size. \\r\\n\\r\\nWhy We Love It: Made in Italy, Superga’s legendary sneakers have been a staple on city streets and sandy beaches since 1925. \\r\\n\\r\\nConstruction: Durable upper made from woven shirt-fabric material. Natural rubber outsole with pebble traction tread. Breathable cotton lining and cushioned insole. Lace-up front with metal eyelets. \\r\\n\\r\\nAdditional Features: Superga logo at back heel. Imported.'),\n",
       "  'query': 'What are the key features and construction details of the ShirtFab Classic COTU 2750 Sneakers as described in the document?',\n",
       "  'answer': 'The ShirtFab Classic COTU 2750 Sneakers feature a durable upper made from woven shirt-fabric material, which is inspired by a love for the coast and incorporates a nautical stripe design. The sneakers have a natural rubber outsole with a pebble traction tread for enhanced grip. Inside, they are lined with breathable cotton and include a cushioned insole for comfort. The sneakers have a lace-up front with metal eyelets and a Superga logo located at the back heel. Additionally, they are made in Italy and have been a staple in fashion since 1925.',\n",
       "  'result': ' The key features and construction details of the ShirtFab Classic COTU 2750 Sneakers include a woven shirt-fabric upper, a natural rubber outsole with pebble traction tread, a breathable cotton lining and cushioned insole, a lace-up front with metal eyelets, and the Superga logo at the back heel. They are also made in Italy and are recommended to be ordered one-half size down from your regular shoe size.'},\n",
       " {'context': Document(metadata={'source': 'inputs/OutdoorClothingCatalog_1000.csv', 'row': 264}, page_content=': 264\\nname: Fjällräven Ceramic Sharpening Stone\\ndescription: A sharp axe is a good axe—even the best-quality axes in the world need to be tuned up occasionally. This Gränsfors Bruks Sharpening Stone has two grits for honing your axe blade, making it quick, easy and convenient to sharpen your blade anywhere.\\r\\n\\r\\nSpecs\\r\\nWeight: 6.7 oz.\\r\\n\\r\\nAdditional Features\\r\\nUse the coarse 180-grain side of the stone to deburr your axe head.\\r\\nUse the fine 600-grain side to give it a keen, polished edge.\\r\\nCan be used with or without water.\\r\\nComes with a rubber case for safe storage.\\r\\nImported.'),\n",
       "  'query': 'What are the specifications and features of the Fjällräven Ceramic Sharpening Stone as described in the document? ',\n",
       "  'answer': 'The Fjällräven Ceramic Sharpening Stone weighs 6.7 oz. It has two grits: a coarse 180-grain side for deburring the axe head and a fine 600-grain side for polishing and sharpening the blade. The stone can be used with or without water and comes with a rubber case for safe storage.',\n",
       "  'result': ' The specifications of the Fjällräven Ceramic Sharpening Stone are a weight of 6.7 oz and two grits (180-grain and 600-grain) for honing axe blades. The features include the ability to deburr and sharpen axe heads, use with or without water, and a rubber case for storage.'},\n",
       " {'context': Document(metadata={'source': 'inputs/OutdoorClothingCatalog_1000.csv', 'row': 627}, page_content=': 627\\nname: Timeless Timber Coat Stand\\ndescription: This American-made standing wooden coat rack is crafted from rustic rough-cut pine and finished by hand, making each piece truly unique. The dimensions of the rack are 66\"H x 19\"W x 19\"D, and it weighs 18 lb. The coat rack is handcrafted from rough-sawed pine, handsanded and stained, and finished with a durable low-sheen topcoat. It features iron hooks and is part of our Rustic Wooden Furniture Collection. The coat rack arrives fully assembled, and is made in the USA.'),\n",
       "  'query': 'What are the key features and specifications of the Timeless Timber Coat Stand, including its material, dimensions, weight, and any additional characteristics?',\n",
       "  'answer': 'The Timeless Timber Coat Stand is an American-made standing wooden coat rack crafted from rustic rough-cut pine, making each piece unique. Its dimensions are 66 inches in height, 19 inches in width, and 19 inches in depth, with a total weight of 18 pounds. The coat rack is handcrafted, handsanded, and stained, and it is finished with a durable low-sheen topcoat. It features iron hooks and is part of the Rustic Wooden Furniture Collection. Additionally, the coat rack arrives fully assembled and is made in the USA.',\n",
       "  'result': ' The Timeless Timber Coat Stand is made in the USA and crafted from rustic rough-cut pine. It measures 66\"H x 19\"W x 19\"D and weighs 18 lb. It features iron hooks and is part of the Rustic Wooden Furniture Collection. The coat rack arrives fully assembled and has a durable low-sheen topcoat finish.'},\n",
       " {'context': Document(metadata={'source': 'inputs/OutdoorClothingCatalog_1000.csv', 'row': 82}, page_content=\": 82\\nname: Mountain Explorer Outdoor Jacket\\ndescription: This Men's Upland jacket is designed with improved pockets and tough fabric to withstand the most rugged environments. It features exclusive durable Uplander Cloth nylon, treated with highly water-resistant laminate to resist stains, heavy drizzle, and sharp thorns. Articulated sleeves, bi-swing back and underarm gussets offer a relaxed fit and the freedom of movement needed for fast-flying crossers. Hidden vents on back provide ample airflow, while two lower button-front cargo pockets with shell loops, front-loading game bag with zipper, dual zippered pockets, two upper handwarmer pockets, and interior zippered security pocket provide plenty of storage options. Adjustable button cuffs, corduroy trim and license loop on back complete the look. Machine wash and dry. Imported.\"),\n",
       "  'query': 'What are the key features of the Mountain Explorer Outdoor Jacket that make it suitable for rugged outdoor environments?',\n",
       "  'answer': 'The Mountain Explorer Outdoor Jacket is designed with several key features that enhance its suitability for rugged outdoor environments. It is made from exclusive durable Uplander Cloth nylon, which is treated with a highly water-resistant laminate to resist stains, heavy drizzle, and sharp thorns. The jacket includes articulated sleeves, a bi-swing back, and underarm gussets for a relaxed fit and freedom of movement. It also features hidden vents on the back for airflow, multiple storage options including two lower button-front cargo pockets with shell loops, a front-loading game bag with a zipper, dual zippered pockets, two upper handwarmer pockets, and an interior zippered security pocket. Additionally, the jacket has adjustable button cuffs, corduroy trim, and a license loop on the back. It is machine washable and dryable, and is imported.',\n",
       "  'result': ' The Mountain Explorer Outdoor Jacket features durable Uplander Cloth nylon fabric, a water-resistant laminate, articulated sleeves and underarm gussets for freedom of movement, hidden vents for airflow, multiple pockets for storage, adjustable cuffs, and a license loop on the back.'},\n",
       " {'context': Document(metadata={'source': 'inputs/OutdoorClothingCatalog_1000.csv', 'row': 331}, page_content=': 331\\nname: Weather-Ready Adirondack Chair\\ndescription: Our classic All-Weather Adirondack Chair is built right here in the USA and guaranteed to last in even the toughest climates. It features overall dimensions of 35¾\"H x 29\"W x 35¾\"D, a seat area of 20\" x 17\", and a seat height of 14\"H. This chair is constructed with ecofriendly, partially recycled HDPE (high-density polyethylene) and marine-grade quality stainless-steel hardware, and weighs approximately 37 lbs. \\r\\n\\r\\nTougher and more resilient than treated wood, the HDPE used to build this chair is heavy enough to withstand winds and unaffected by wet weather and extreme temperatures. It won\\'t rot, warp, crack, splinter, absorb moisture or ever need painting, making it ideal for outdoor use - even if left outside all year-round. This chair folds for storage and is available in six attractive, fade-resistant colors. Pair it with our All-Weather Adirondack footstool and Casco Bay Cushions, sold separately, to create the ultimate outdoor lounging setup. \\r\\n\\r\\nAssembly is required and instructions are provided. If you have any questions, please reach out to us.'),\n",
       "  'query': 'What are the key features and benefits of the Weather-Ready Adirondack Chair, including its construction materials, dimensions, and suitability for outdoor use?',\n",
       "  'answer': 'The Weather-Ready Adirondack Chair is constructed using ecofriendly, partially recycled HDPE (high-density polyethylene) and marine-grade quality stainless-steel hardware, making it tough and resilient compared to treated wood. It has overall dimensions of 35¾ inches in height, 29 inches in width, and 35¾ inches in depth, with a seat area of 20 inches by 17 inches and a seat height of 14 inches. Weighing approximately 37 lbs, this chair is designed to withstand tough climates, as it does not rot, warp, crack, splinter, or absorb moisture, and it requires no painting. It is suitable for outdoor use even if left outside year-round. Additionally, the chair folds for storage and is available in six attractive, fade-resistant colors. Assembly is required, with instructions provided.',\n",
       "  'result': ' The Weather-Ready Adirondack Chair is constructed with ecofriendly, partially recycled HDPE (high-density polyethylene) and marine-grade quality stainless-steel hardware. It has overall dimensions of 35¾\"H x 29\"W x 35¾\"D, a seat area of 20\" x 17\", and a seat height of 14\"H. It is heavy enough to withstand winds and unaffected by wet weather and extreme temperatures, making it suitable for outdoor use year-round. It won\\'t rot, warp, crack, splinter, absorb moisture or ever need painting, making it low maintenance. It also folds for easy storage.'}]"
      ]
     },
     "execution_count": 52,
     "metadata": {},
     "output_type": "execute_result"
    }
   ],
   "source": [
    "predictions"
   ]
  },
  {
   "cell_type": "code",
   "execution_count": null,
   "metadata": {},
   "outputs": [],
   "source": [
    "documents_dict = [\n",
    "    [{\"context\": doc['context'].page_content, \n",
    "      \"metadata\": doc['context'].metadata,\n",
    "       \"query\": doc['query'],\n",
    "       \"answer\": doc['answer'],  \n",
    "       \"ground_truths\": doc['result'],\n",
    "      } \n",
    "     for doc in data]\n",
    "    for data in [predictions]\n",
    "]\n",
    "documents_dict\n",
    "\n",
    "os.makedirs('results', exist_ok=True)\n",
    "\n",
    "# Save the list of dictionaries to a JSON file\n",
    "with open(f\"results/query_{embeddings_provider}_results.json\", \"w\") as file:\n",
    "    json.dump(documents_dict, file, indent=4)\n",
    "\n",
    "print(f\"Documents have been saved to 'query_{embeddings_provider}_results.json'\")"
   ]
  },
  {
   "cell_type": "code",
   "execution_count": 51,
   "metadata": {},
   "outputs": [
    {
     "data": {
      "text/plain": [
       "[{'context': Document(metadata={'source': 'inputs/OutdoorClothingCatalog_1000.csv', 'row': 644}, page_content=': 644\\nname: ShirtFab Classic COTU 2750 Sneakers\\ndescription: Inspired by a love for the coast, this Superga fabric sneaker features a nautical stripe. With a woven shirt-fabric upper for cool comfort and timeless style. \\r\\n\\r\\nSize & Fit: Please order one-half size down from your regular shoe size. \\r\\n\\r\\nWhy We Love It: Made in Italy, Superga’s legendary sneakers have been a staple on city streets and sandy beaches since 1925. \\r\\n\\r\\nConstruction: Durable upper made from woven shirt-fabric material. Natural rubber outsole with pebble traction tread. Breathable cotton lining and cushioned insole. Lace-up front with metal eyelets. \\r\\n\\r\\nAdditional Features: Superga logo at back heel. Imported.'),\n",
       "  'query': 'What are the key features and construction details of the ShirtFab Classic COTU 2750 Sneakers as described in the document?',\n",
       "  'answer': 'The ShirtFab Classic COTU 2750 Sneakers feature a durable upper made from woven shirt-fabric material, which is inspired by a love for the coast and incorporates a nautical stripe design. The sneakers have a natural rubber outsole with a pebble traction tread for enhanced grip. Inside, they are lined with breathable cotton and include a cushioned insole for comfort. The sneakers have a lace-up front with metal eyelets and a Superga logo located at the back heel. Additionally, they are made in Italy and have been a staple in fashion since 1925.',\n",
       "  'result': ' The key features and construction details of the ShirtFab Classic COTU 2750 Sneakers include a woven shirt-fabric upper, a natural rubber outsole with pebble traction tread, a breathable cotton lining and cushioned insole, a lace-up front with metal eyelets, and the Superga logo at the back heel. They are also made in Italy and are recommended to be ordered one-half size down from your regular shoe size.'},\n",
       " {'context': Document(metadata={'source': 'inputs/OutdoorClothingCatalog_1000.csv', 'row': 264}, page_content=': 264\\nname: Fjällräven Ceramic Sharpening Stone\\ndescription: A sharp axe is a good axe—even the best-quality axes in the world need to be tuned up occasionally. This Gränsfors Bruks Sharpening Stone has two grits for honing your axe blade, making it quick, easy and convenient to sharpen your blade anywhere.\\r\\n\\r\\nSpecs\\r\\nWeight: 6.7 oz.\\r\\n\\r\\nAdditional Features\\r\\nUse the coarse 180-grain side of the stone to deburr your axe head.\\r\\nUse the fine 600-grain side to give it a keen, polished edge.\\r\\nCan be used with or without water.\\r\\nComes with a rubber case for safe storage.\\r\\nImported.'),\n",
       "  'query': 'What are the specifications and features of the Fjällräven Ceramic Sharpening Stone as described in the document? ',\n",
       "  'answer': 'The Fjällräven Ceramic Sharpening Stone weighs 6.7 oz. It has two grits: a coarse 180-grain side for deburring the axe head and a fine 600-grain side for polishing and sharpening the blade. The stone can be used with or without water and comes with a rubber case for safe storage.',\n",
       "  'result': ' The specifications of the Fjällräven Ceramic Sharpening Stone are a weight of 6.7 oz and two grits (180-grain and 600-grain) for honing axe blades. The features include the ability to deburr and sharpen axe heads, use with or without water, and a rubber case for storage.'},\n",
       " {'context': Document(metadata={'source': 'inputs/OutdoorClothingCatalog_1000.csv', 'row': 627}, page_content=': 627\\nname: Timeless Timber Coat Stand\\ndescription: This American-made standing wooden coat rack is crafted from rustic rough-cut pine and finished by hand, making each piece truly unique. The dimensions of the rack are 66\"H x 19\"W x 19\"D, and it weighs 18 lb. The coat rack is handcrafted from rough-sawed pine, handsanded and stained, and finished with a durable low-sheen topcoat. It features iron hooks and is part of our Rustic Wooden Furniture Collection. The coat rack arrives fully assembled, and is made in the USA.'),\n",
       "  'query': 'What are the key features and specifications of the Timeless Timber Coat Stand, including its material, dimensions, weight, and any additional characteristics?',\n",
       "  'answer': 'The Timeless Timber Coat Stand is an American-made standing wooden coat rack crafted from rustic rough-cut pine, making each piece unique. Its dimensions are 66 inches in height, 19 inches in width, and 19 inches in depth, with a total weight of 18 pounds. The coat rack is handcrafted, handsanded, and stained, and it is finished with a durable low-sheen topcoat. It features iron hooks and is part of the Rustic Wooden Furniture Collection. Additionally, the coat rack arrives fully assembled and is made in the USA.',\n",
       "  'result': ' The Timeless Timber Coat Stand is made in the USA and crafted from rustic rough-cut pine. It measures 66\"H x 19\"W x 19\"D and weighs 18 lb. It features iron hooks and is part of the Rustic Wooden Furniture Collection. The coat rack arrives fully assembled and has a durable low-sheen topcoat finish.'},\n",
       " {'context': Document(metadata={'source': 'inputs/OutdoorClothingCatalog_1000.csv', 'row': 82}, page_content=\": 82\\nname: Mountain Explorer Outdoor Jacket\\ndescription: This Men's Upland jacket is designed with improved pockets and tough fabric to withstand the most rugged environments. It features exclusive durable Uplander Cloth nylon, treated with highly water-resistant laminate to resist stains, heavy drizzle, and sharp thorns. Articulated sleeves, bi-swing back and underarm gussets offer a relaxed fit and the freedom of movement needed for fast-flying crossers. Hidden vents on back provide ample airflow, while two lower button-front cargo pockets with shell loops, front-loading game bag with zipper, dual zippered pockets, two upper handwarmer pockets, and interior zippered security pocket provide plenty of storage options. Adjustable button cuffs, corduroy trim and license loop on back complete the look. Machine wash and dry. Imported.\"),\n",
       "  'query': 'What are the key features of the Mountain Explorer Outdoor Jacket that make it suitable for rugged outdoor environments?',\n",
       "  'answer': 'The Mountain Explorer Outdoor Jacket is designed with several key features that enhance its suitability for rugged outdoor environments. It is made from exclusive durable Uplander Cloth nylon, which is treated with a highly water-resistant laminate to resist stains, heavy drizzle, and sharp thorns. The jacket includes articulated sleeves, a bi-swing back, and underarm gussets for a relaxed fit and freedom of movement. It also features hidden vents on the back for airflow, multiple storage options including two lower button-front cargo pockets with shell loops, a front-loading game bag with a zipper, dual zippered pockets, two upper handwarmer pockets, and an interior zippered security pocket. Additionally, the jacket has adjustable button cuffs, corduroy trim, and a license loop on the back. It is machine washable and dryable, and is imported.',\n",
       "  'result': ' The Mountain Explorer Outdoor Jacket features durable Uplander Cloth nylon fabric, a water-resistant laminate, articulated sleeves and underarm gussets for freedom of movement, hidden vents for airflow, multiple pockets for storage, adjustable cuffs, and a license loop on the back.'},\n",
       " {'context': Document(metadata={'source': 'inputs/OutdoorClothingCatalog_1000.csv', 'row': 331}, page_content=': 331\\nname: Weather-Ready Adirondack Chair\\ndescription: Our classic All-Weather Adirondack Chair is built right here in the USA and guaranteed to last in even the toughest climates. It features overall dimensions of 35¾\"H x 29\"W x 35¾\"D, a seat area of 20\" x 17\", and a seat height of 14\"H. This chair is constructed with ecofriendly, partially recycled HDPE (high-density polyethylene) and marine-grade quality stainless-steel hardware, and weighs approximately 37 lbs. \\r\\n\\r\\nTougher and more resilient than treated wood, the HDPE used to build this chair is heavy enough to withstand winds and unaffected by wet weather and extreme temperatures. It won\\'t rot, warp, crack, splinter, absorb moisture or ever need painting, making it ideal for outdoor use - even if left outside all year-round. This chair folds for storage and is available in six attractive, fade-resistant colors. Pair it with our All-Weather Adirondack footstool and Casco Bay Cushions, sold separately, to create the ultimate outdoor lounging setup. \\r\\n\\r\\nAssembly is required and instructions are provided. If you have any questions, please reach out to us.'),\n",
       "  'query': 'What are the key features and benefits of the Weather-Ready Adirondack Chair, including its construction materials, dimensions, and suitability for outdoor use?',\n",
       "  'answer': 'The Weather-Ready Adirondack Chair is constructed using ecofriendly, partially recycled HDPE (high-density polyethylene) and marine-grade quality stainless-steel hardware, making it tough and resilient compared to treated wood. It has overall dimensions of 35¾ inches in height, 29 inches in width, and 35¾ inches in depth, with a seat area of 20 inches by 17 inches and a seat height of 14 inches. Weighing approximately 37 lbs, this chair is designed to withstand tough climates, as it does not rot, warp, crack, splinter, or absorb moisture, and it requires no painting. It is suitable for outdoor use even if left outside year-round. Additionally, the chair folds for storage and is available in six attractive, fade-resistant colors. Assembly is required, with instructions provided.',\n",
       "  'result': ' The Weather-Ready Adirondack Chair is constructed with ecofriendly, partially recycled HDPE (high-density polyethylene) and marine-grade quality stainless-steel hardware. It has overall dimensions of 35¾\"H x 29\"W x 35¾\"D, a seat area of 20\" x 17\", and a seat height of 14\"H. It is heavy enough to withstand winds and unaffected by wet weather and extreme temperatures, making it suitable for outdoor use year-round. It won\\'t rot, warp, crack, splinter, absorb moisture or ever need painting, making it low maintenance. It also folds for easy storage.'}]"
      ]
     },
     "execution_count": 51,
     "metadata": {},
     "output_type": "execute_result"
    }
   ],
   "source": [
    "predictions"
   ]
  }
 ],
 "metadata": {
  "kernelspec": {
   "display_name": "ds-ai-chat-env",
   "language": "python",
   "name": "python3"
  },
  "language_info": {
   "codemirror_mode": {
    "name": "ipython",
    "version": 3
   },
   "file_extension": ".py",
   "mimetype": "text/x-python",
   "name": "python",
   "nbconvert_exporter": "python",
   "pygments_lexer": "ipython3",
   "version": "3.11.4"
  }
 },
 "nbformat": 4,
 "nbformat_minor": 2
}
